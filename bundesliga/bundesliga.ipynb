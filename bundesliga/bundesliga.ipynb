{
 "cells": [
  {
   "cell_type": "markdown",
   "metadata": {},
   "source": [
    "How do red cards impact a soccer game? Going to look at four seasons worth of data from 2018-2022 in the Bundesliga. "
   ]
  },
  {
   "cell_type": "code",
   "execution_count": 21,
   "metadata": {},
   "outputs": [],
   "source": [
    "# import the libraries\n",
    "import pandas as pd\n",
    "import numpy as np\n",
    "import matplotlib.pyplot as plt\n",
    "import seaborn as sns"
   ]
  },
  {
   "cell_type": "code",
   "execution_count": 22,
   "metadata": {},
   "outputs": [
    {
     "name": "stdout",
     "output_type": "stream",
     "text": [
      "Index(['Div', 'Date', 'HomeTeam', 'AwayTeam', 'FTHG', 'FTAG', 'FTR', 'HTHG',\n",
      "       'HTAG', 'HTR', 'HS', 'AS', 'HST', 'AST', 'HF', 'AF', 'HC', 'AC', 'HY',\n",
      "       'AY', 'HR', 'AR', 'B365H', 'B365D', 'B365A', 'BWH', 'BWD', 'BWA', 'IWH',\n",
      "       'IWD', 'IWA', 'PSH', 'PSD', 'PSA', 'WHH', 'WHD', 'WHA', 'VCH', 'VCD',\n",
      "       'VCA', 'Bb1X2', 'BbMxH', 'BbAvH', 'BbMxD', 'BbAvD', 'BbMxA', 'BbAvA',\n",
      "       'BbOU', 'BbMx>2.5', 'BbAv>2.5', 'BbMx<2.5', 'BbAv<2.5', 'BbAH', 'BbAHh',\n",
      "       'BbMxAHH', 'BbAvAHH', 'BbMxAHA', 'BbAvAHA', 'PSCH', 'PSCD', 'PSCA'],\n",
      "      dtype='object')\n"
     ]
    }
   ],
   "source": [
    "# let's take a look at the first of data \n",
    "test_season = pd.read_csv(\"data/D1_18-19.csv\")\n",
    "print(test_season.columns) "
   ]
  },
  {
   "cell_type": "markdown",
   "metadata": {},
   "source": [
    "There is about 60 columns. We don't ned all of that. We will also need to rename the columns we do use and create new ones. <br>\n",
    "Here is what we need: \n",
    "  - Season (need to create to identify the season: 18-19, 19-20, 20-21, 21-22)\n",
    "  - Date\n",
    "  - HomeTeam\n",
    "  - AwayTeam\n",
    "  - FTHG (Full time home goals) --> rename home_goals\n",
    "  - FTAG (Full time away goals) --> rename away_goals\n",
    "  - FTR (Full time result - H=Home win, A=Away Win, D=Draw) --> rename result\n",
    "  - HY (Home yellow cards) --> rename home_yellows\n",
    "  - AY (Away yellow cards) --> rename away_yellows\n",
    "  - HR (Home red cards) --> rename home_reds\n",
    "  - AR (Away red cards) --> rename away_reds\n",
    "\n"
   ]
  },
  {
   "cell_type": "markdown",
   "metadata": {},
   "source": [
    "Here's the plan of attack\n",
    "1. Define a function to do the work of removing the columns we don't need, adding the columns we do, and renaming the columns. \n",
    "2. Pass the four csv's through the function to create 4 dataframes for the four seasons.\n",
    "3. Combine the data frames together to create a larger datafame with all info on it.\n",
    "4. Double check the data frame"
   ]
  },
  {
   "cell_type": "code",
   "execution_count": 28,
   "metadata": {},
   "outputs": [],
   "source": [
    "# 1 - define the function - convert_season\n",
    "# It should take in two arguments: a path to a csv, and a season name\n",
    "# it will keep and rename the following columns:\n",
    "new_cols = ['Date', 'HomeTeam', 'AwayTeam', 'FTHG', 'FTAG', 'FTR', 'HY','AY', 'HR', 'AR']\n",
    "new_col_names = {\n",
    "  \"FTHG\": \"home_goals\",\n",
    "  \"FTAG\": \"away_goals\",\n",
    "  \"FTR\": \"result\",\n",
    "  \"HY\": \"home_yellows\",\n",
    "  \"AY\": \"away_yellows\",\n",
    "  \"HR\": \"home_reds\",\n",
    "  \"AR\": \"away_reds\"\n",
    "}\n",
    "# function should return a pandas dataframe\n",
    "def convert_season(csv, season):\n",
    "  df = pd.read_csv(csv, usecols=new_cols)\n",
    "  df = df.rename(columns=new_col_names)\n",
    "  df[\"Date\"] = pd.to_datetime(df[\"Date\"], dayfirst=True)\n",
    "  df[\"season\"] = season\n",
    "  return df  "
   ]
  },
  {
   "cell_type": "code",
   "execution_count": 29,
   "metadata": {},
   "outputs": [
    {
     "name": "stdout",
     "output_type": "stream",
     "text": [
      "        Date            HomeTeam       AwayTeam  home_goals  away_goals  \\\n",
      "0 2018-08-24       Bayern Munich     Hoffenheim           3           1   \n",
      "1 2018-08-25  Fortuna Dusseldorf       Augsburg           1           2   \n",
      "2 2018-08-25            Freiburg  Ein Frankfurt           0           2   \n",
      "3 2018-08-25              Hertha       Nurnberg           1           0   \n",
      "4 2018-08-25          M'gladbach     Leverkusen           2           0   \n",
      "\n",
      "  result  home_yellows  away_yellows  home_reds  away_reds     season  \n",
      "0      H             1             4          0          0  2018-2019  \n",
      "1      A             1             0          0          0  2018-2019  \n",
      "2      A             1             2          0          0  2018-2019  \n",
      "3      H             2             2          0          0  2018-2019  \n",
      "4      H             1             2          0          0  2018-2019  \n"
     ]
    }
   ],
   "source": [
    "#test the first season\n",
    "season_18_19_df = convert_season(\"data/D1_18-19.csv\", \"2018-2019\")\n",
    "print(season_18_19_df.head())"
   ]
  },
  {
   "cell_type": "code",
   "execution_count": 30,
   "metadata": {},
   "outputs": [],
   "source": [
    "# It worked! Time to do the rest of the season\n",
    "season_19_20_df = convert_season(\"data/D1_19-20.csv\", \"2019-2020\")\n",
    "season_20_21_df = convert_season(\"data/D1_20-21.csv\", \"2020-2021\")\n",
    "season_21_22_df = convert_season(\"data/D1_21-22.csv\", \"2021-2022\")"
   ]
  },
  {
   "cell_type": "code",
   "execution_count": 31,
   "metadata": {},
   "outputs": [
    {
     "name": "stdout",
     "output_type": "stream",
     "text": [
      "        Date            HomeTeam       AwayTeam  home_goals  away_goals  \\\n",
      "0 2018-08-24       Bayern Munich     Hoffenheim           3           1   \n",
      "1 2018-08-25  Fortuna Dusseldorf       Augsburg           1           2   \n",
      "2 2018-08-25            Freiburg  Ein Frankfurt           0           2   \n",
      "3 2018-08-25              Hertha       Nurnberg           1           0   \n",
      "4 2018-08-25          M'gladbach     Leverkusen           2           0   \n",
      "5 2018-08-25       Werder Bremen       Hannover           1           1   \n",
      "6 2018-08-25           Wolfsburg     Schalke 04           2           1   \n",
      "7 2018-08-26            Dortmund     RB Leipzig           4           1   \n",
      "8 2018-08-26               Mainz      Stuttgart           1           0   \n",
      "9 2018-08-31            Hannover       Dortmund           0           0   \n",
      "\n",
      "  result  home_yellows  away_yellows  home_reds  away_reds     season  \n",
      "0      H             1             4          0          0  2018-2019  \n",
      "1      A             1             0          0          0  2018-2019  \n",
      "2      A             1             2          0          0  2018-2019  \n",
      "3      H             2             2          0          0  2018-2019  \n",
      "4      H             1             2          0          0  2018-2019  \n",
      "5      D             0             0          0          0  2018-2019  \n",
      "6      H             5             3          0          1  2018-2019  \n",
      "7      H             2             2          0          0  2018-2019  \n",
      "8      H             1             2          0          0  2018-2019  \n",
      "9      D             0             0          0          0  2018-2019  \n"
     ]
    }
   ],
   "source": [
    "# now concat into a larger df with all of the date: bundesliga_df\n",
    "bundesliga_df = pd.concat([season_18_19_df, season_19_20_df, season_20_21_df, season_21_22_df])\n",
    "\n",
    "print(bundesliga_df.head(10))"
   ]
  }
 ],
 "metadata": {
  "kernelspec": {
   "display_name": ".venv",
   "language": "python",
   "name": "python3"
  },
  "language_info": {
   "codemirror_mode": {
    "name": "ipython",
    "version": 3
   },
   "file_extension": ".py",
   "mimetype": "text/x-python",
   "name": "python",
   "nbconvert_exporter": "python",
   "pygments_lexer": "ipython3",
   "version": "3.11.5"
  },
  "orig_nbformat": 4
 },
 "nbformat": 4,
 "nbformat_minor": 2
}
