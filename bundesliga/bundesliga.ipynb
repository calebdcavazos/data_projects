{
 "cells": [
  {
   "cell_type": "markdown",
   "metadata": {},
   "source": [
    "How do red cards impact a soccer game? Going to look at four seasons worth of data from 2018-2022 in the Bundesliga. "
   ]
  },
  {
   "cell_type": "code",
   "execution_count": 5,
   "metadata": {},
   "outputs": [],
   "source": [
    "# import the libraries\n",
    "import pandas as pd\n",
    "import numpy as np\n",
    "import matplotlib.pyplot as plt\n",
    "import seaborn as sns"
   ]
  },
  {
   "cell_type": "code",
   "execution_count": 8,
   "metadata": {},
   "outputs": [
    {
     "name": "stdout",
     "output_type": "stream",
     "text": [
      "Index(['Div', 'Date', 'HomeTeam', 'AwayTeam', 'FTHG', 'FTAG', 'FTR', 'HTHG',\n",
      "       'HTAG', 'HTR', 'HS', 'AS', 'HST', 'AST', 'HF', 'AF', 'HC', 'AC', 'HY',\n",
      "       'AY', 'HR', 'AR', 'B365H', 'B365D', 'B365A', 'BWH', 'BWD', 'BWA', 'IWH',\n",
      "       'IWD', 'IWA', 'PSH', 'PSD', 'PSA', 'WHH', 'WHD', 'WHA', 'VCH', 'VCD',\n",
      "       'VCA', 'Bb1X2', 'BbMxH', 'BbAvH', 'BbMxD', 'BbAvD', 'BbMxA', 'BbAvA',\n",
      "       'BbOU', 'BbMx>2.5', 'BbAv>2.5', 'BbMx<2.5', 'BbAv<2.5', 'BbAH', 'BbAHh',\n",
      "       'BbMxAHH', 'BbAvAHH', 'BbMxAHA', 'BbAvAHA', 'PSCH', 'PSCD', 'PSCA'],\n",
      "      dtype='object')\n"
     ]
    }
   ],
   "source": [
    "# get the data - it's currently 4 separate csv files. We will need to import all four individually and then combine. Import the first one and lets see what transformations we need to do. \n",
    "season_18_19_df = pd.read_csv(\"data/D1_18-19.csv\")\n",
    "print(season_18_19_df.columns) "
   ]
  },
  {
   "cell_type": "markdown",
   "metadata": {},
   "source": [
    "There is about 60 columns. We don't ned all of that. We will also need to rename the columns we do use and create new ones. \n",
    "Here is what we need: \n",
    "  -Season (need to create to identify the season: 18-19, 19-20, 20-21, 21-22)\n",
    "  -Date\n",
    "  -HomeTeam\n",
    "  -AwayTeam\n",
    "  -FTHG (Full time home goals) --> rename home_goals\n",
    "  -FTAG (Full time away goals) --> rename away_goals\n",
    "  -FTR (Full time result - H=Home win, A=Away Win, D=Draw) --> rename result\n",
    "  -HY (Home yellow cards) --> rename home_yellows\n",
    "  -AY (Away yellow cards) --> rename away_yellows\n",
    "  -HR (Home red cards) --> rename home_reds\n",
    "  -AR (Away red cards) --> rename away_reds\n",
    "\n"
   ]
  }
 ],
 "metadata": {
  "kernelspec": {
   "display_name": ".venv",
   "language": "python",
   "name": "python3"
  },
  "language_info": {
   "codemirror_mode": {
    "name": "ipython",
    "version": 3
   },
   "file_extension": ".py",
   "mimetype": "text/x-python",
   "name": "python",
   "nbconvert_exporter": "python",
   "pygments_lexer": "ipython3",
   "version": "3.11.5"
  },
  "orig_nbformat": 4
 },
 "nbformat": 4,
 "nbformat_minor": 2
}
