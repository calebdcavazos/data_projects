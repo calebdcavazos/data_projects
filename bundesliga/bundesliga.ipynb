{
 "cells": [
  {
   "cell_type": "markdown",
   "metadata": {},
   "source": [
    "How do red cards impact a soccer game? Going to look at four seasons worth of data from 2018-2022 in the Bundesliga. "
   ]
  },
  {
   "cell_type": "code",
   "execution_count": 1,
   "metadata": {},
   "outputs": [],
   "source": [
    "# import the libraries\n",
    "import pandas as pd\n",
    "import numpy as np\n",
    "import matplotlib.pyplot as plt\n",
    "import seaborn as sns"
   ]
  },
  {
   "cell_type": "code",
   "execution_count": 2,
   "metadata": {},
   "outputs": [
    {
     "name": "stdout",
     "output_type": "stream",
     "text": [
      "Index(['Div', 'Date', 'HomeTeam', 'AwayTeam', 'FTHG', 'FTAG', 'FTR', 'HTHG',\n",
      "       'HTAG', 'HTR', 'HS', 'AS', 'HST', 'AST', 'HF', 'AF', 'HC', 'AC', 'HY',\n",
      "       'AY', 'HR', 'AR', 'B365H', 'B365D', 'B365A', 'BWH', 'BWD', 'BWA', 'IWH',\n",
      "       'IWD', 'IWA', 'PSH', 'PSD', 'PSA', 'WHH', 'WHD', 'WHA', 'VCH', 'VCD',\n",
      "       'VCA', 'Bb1X2', 'BbMxH', 'BbAvH', 'BbMxD', 'BbAvD', 'BbMxA', 'BbAvA',\n",
      "       'BbOU', 'BbMx>2.5', 'BbAv>2.5', 'BbMx<2.5', 'BbAv<2.5', 'BbAH', 'BbAHh',\n",
      "       'BbMxAHH', 'BbAvAHH', 'BbMxAHA', 'BbAvAHA', 'PSCH', 'PSCD', 'PSCA'],\n",
      "      dtype='object')\n"
     ]
    }
   ],
   "source": [
    "# let's take a look at the first of data \n",
    "test_season = pd.read_csv(\"data/D1_18-19.csv\")\n",
    "print(test_season.columns) "
   ]
  },
  {
   "cell_type": "markdown",
   "metadata": {},
   "source": [
    "There is about 60 columns. We don't ned all of that. We will also need to rename the columns we do use and create new ones. <br>\n",
    "Here is what we need: \n",
    "  - Season (need to create to identify the season: 18-19, 19-20, 20-21, 21-22)\n",
    "  - Date\n",
    "  - HomeTeam\n",
    "  - AwayTeam\n",
    "  - FTHG (Full time home goals) --> rename home_goals\n",
    "  - FTAG (Full time away goals) --> rename away_goals\n",
    "  - FTR (Full time result - H=Home win, A=Away Win, D=Draw) --> rename result\n",
    "  - HY (Home yellow cards) --> rename home_yellows\n",
    "  - AY (Away yellow cards) --> rename away_yellows\n",
    "  - HR (Home red cards) --> rename home_reds\n",
    "  - AR (Away red cards) --> rename away_reds\n",
    "\n"
   ]
  },
  {
   "cell_type": "markdown",
   "metadata": {},
   "source": [
    "Here's the plan of attack\n",
    "1. Define a function to do the work of removing the columns we don't need, adding the columns we do, and renaming the columns. \n",
    "2. Pass the four csv's through the function to create 4 dataframes for the four seasons.\n",
    "3. Combine the data frames together to create a larger datafame with all info on it.\n",
    "4. Double check the data frame"
   ]
  },
  {
   "cell_type": "code",
   "execution_count": 3,
   "metadata": {},
   "outputs": [],
   "source": [
    "# 1 - define the function - convert_season\n",
    "# It should take in two arguments: a path to a csv, and a season name\n",
    "# it will keep and rename the following columns:\n",
    "new_cols = ['Date', 'HomeTeam', 'AwayTeam', 'FTHG', 'FTAG', 'FTR', 'HY','AY', 'HR', 'AR']\n",
    "new_col_names = {\n",
    "  \"FTHG\": \"home_goals\",\n",
    "  \"FTAG\": \"away_goals\",\n",
    "  \"FTR\": \"result\",\n",
    "  \"HY\": \"home_yellows\",\n",
    "  \"AY\": \"away_yellows\",\n",
    "  \"HR\": \"home_reds\",\n",
    "  \"AR\": \"away_reds\"\n",
    "}\n",
    "# function should return a pandas dataframe\n",
    "def convert_season(csv, season):\n",
    "  df = pd.read_csv(csv, usecols=new_cols)\n",
    "  df = df.rename(columns=new_col_names)\n",
    "  df[\"season\"] = season\n",
    "  return df  "
   ]
  },
  {
   "cell_type": "code",
   "execution_count": 4,
   "metadata": {},
   "outputs": [
    {
     "name": "stdout",
     "output_type": "stream",
     "text": [
      "         Date            HomeTeam       AwayTeam  home_goals  away_goals  \\\n",
      "0  24/08/2018       Bayern Munich     Hoffenheim           3           1   \n",
      "1  25/08/2018  Fortuna Dusseldorf       Augsburg           1           2   \n",
      "2  25/08/2018            Freiburg  Ein Frankfurt           0           2   \n",
      "3  25/08/2018              Hertha       Nurnberg           1           0   \n",
      "4  25/08/2018          M'gladbach     Leverkusen           2           0   \n",
      "\n",
      "  result  home_yellows  away_yellows  home_reds  away_reds     season  \n",
      "0      H             1             4          0          0  2018-2019  \n",
      "1      A             1             0          0          0  2018-2019  \n",
      "2      A             1             2          0          0  2018-2019  \n",
      "3      H             2             2          0          0  2018-2019  \n",
      "4      H             1             2          0          0  2018-2019  \n"
     ]
    }
   ],
   "source": [
    "#test the first season\n",
    "season_18_19_df = convert_season(\"data/D1_18-19.csv\", \"2018-2019\")\n",
    "print(season_18_19_df.head())"
   ]
  },
  {
   "cell_type": "code",
   "execution_count": 5,
   "metadata": {},
   "outputs": [
    {
     "name": "stdout",
     "output_type": "stream",
     "text": [
      "Date            object\n",
      "HomeTeam        object\n",
      "AwayTeam        object\n",
      "home_goals       int64\n",
      "away_goals       int64\n",
      "result          object\n",
      "home_yellows     int64\n",
      "away_yellows     int64\n",
      "home_reds        int64\n",
      "away_reds        int64\n",
      "season          object\n",
      "dtype: object\n"
     ]
    }
   ],
   "source": [
    "#should go back and change type of date to a datetime\n",
    "print(season_18_19_df.dtypes)"
   ]
  }
 ],
 "metadata": {
  "kernelspec": {
   "display_name": ".venv",
   "language": "python",
   "name": "python3"
  },
  "language_info": {
   "codemirror_mode": {
    "name": "ipython",
    "version": 3
   },
   "file_extension": ".py",
   "mimetype": "text/x-python",
   "name": "python",
   "nbconvert_exporter": "python",
   "pygments_lexer": "ipython3",
   "version": "3.11.5"
  },
  "orig_nbformat": 4
 },
 "nbformat": 4,
 "nbformat_minor": 2
}
