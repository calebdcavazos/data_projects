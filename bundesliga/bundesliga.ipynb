{
 "cells": [
  {
   "cell_type": "markdown",
   "metadata": {},
   "source": [
    "How do red cards impact a soccer game? Going to look at four seasons worth of data from 2018-2022 in the Bundesliga. "
   ]
  },
  {
   "cell_type": "code",
   "execution_count": 29,
   "metadata": {},
   "outputs": [],
   "source": [
    "# import the libraries\n",
    "import pandas as pd\n",
    "import numpy as np\n",
    "import matplotlib.pyplot as plt\n",
    "import seaborn as sns"
   ]
  },
  {
   "cell_type": "code",
   "execution_count": 30,
   "metadata": {},
   "outputs": [
    {
     "name": "stdout",
     "output_type": "stream",
     "text": [
      "Index(['Div', 'Date', 'HomeTeam', 'AwayTeam', 'FTHG', 'FTAG', 'FTR', 'HTHG',\n",
      "       'HTAG', 'HTR', 'HS', 'AS', 'HST', 'AST', 'HF', 'AF', 'HC', 'AC', 'HY',\n",
      "       'AY', 'HR', 'AR', 'B365H', 'B365D', 'B365A', 'BWH', 'BWD', 'BWA', 'IWH',\n",
      "       'IWD', 'IWA', 'PSH', 'PSD', 'PSA', 'WHH', 'WHD', 'WHA', 'VCH', 'VCD',\n",
      "       'VCA', 'Bb1X2', 'BbMxH', 'BbAvH', 'BbMxD', 'BbAvD', 'BbMxA', 'BbAvA',\n",
      "       'BbOU', 'BbMx>2.5', 'BbAv>2.5', 'BbMx<2.5', 'BbAv<2.5', 'BbAH', 'BbAHh',\n",
      "       'BbMxAHH', 'BbAvAHH', 'BbMxAHA', 'BbAvAHA', 'PSCH', 'PSCD', 'PSCA'],\n",
      "      dtype='object')\n"
     ]
    }
   ],
   "source": [
    "# let's take a look at the first of data \n",
    "test_season = pd.read_csv(\"data/D1_18-19.csv\")\n",
    "print(test_season.columns) "
   ]
  },
  {
   "cell_type": "markdown",
   "metadata": {},
   "source": [
    "There is about 60 columns. We don't ned all of that. We will also need to rename the columns we do use and create new ones. <br>\n",
    "Here is what we need: \n",
    "  - Season (need to create to identify the season: 18-19, 19-20, 20-21, 21-22)\n",
    "  - Date\n",
    "  - HomeTeam\n",
    "  - AwayTeam\n",
    "  - FTHG (Full time home goals) --> rename home_goals\n",
    "  - FTAG (Full time away goals) --> rename away_goals\n",
    "  - FTR (Full time result - H=Home win, A=Away Win, D=Draw) --> rename result\n",
    "  - HY (Home yellow cards) --> rename home_yellows\n",
    "  - AY (Away yellow cards) --> rename away_yellows\n",
    "  - HR (Home red cards) --> rename home_reds\n",
    "  - AR (Away red cards) --> rename away_reds\n",
    "\n"
   ]
  },
  {
   "cell_type": "markdown",
   "metadata": {},
   "source": [
    "Here's the plan of attack\n",
    "1. Define a function to do the work of removing the columns we don't need, adding the columns we do, and renaming the columns. \n",
    "2. Pass the four csv's through the function to create 4 dataframes for the four seasons.\n",
    "3. Combine the data frames together to create a larger datafame with all info on it.\n",
    "4. Double check the data frame"
   ]
  },
  {
   "cell_type": "code",
   "execution_count": 31,
   "metadata": {},
   "outputs": [
    {
     "name": "stdout",
     "output_type": "stream",
     "text": [
      "Index(['Date', 'HomeTeam', 'AwayTeam', 'FTHG', 'FTAG', 'FTR', 'HS', 'AS',\n",
      "       'HST', 'AST', 'HY', 'AY', 'HR', 'AR', 'season'],\n",
      "      dtype='object')\n",
      "(3672, 15)\n"
     ]
    }
   ],
   "source": [
    "# 1 - define the function - convert_season\n",
    "# It should take in two arguments: a path to a csv, and a season name\n",
    "# it will keep and rename the following columns:\n",
    "cols = ['Date', 'HomeTeam', 'AwayTeam', 'FTHG', 'FTAG', 'FTR', 'HS', 'AS', 'HST', 'AST', 'HY','AY', 'HR', 'AR', \"season\"]\n",
    "csv_cols = ['Date', 'HomeTeam', 'AwayTeam', 'FTHG', 'FTAG', 'FTR', 'HS', 'AS', 'HST', 'AST', 'HY','AY', 'HR', 'AR']\n",
    "new_col_names = {\n",
    "  \"FTHG\": \"home_goals\",\n",
    "  \"FTAG\": \"away_goals\",\n",
    "  \"FTR\": \"result\",\n",
    "  \"HS\": \"home_shots\",\n",
    "  \"AS\": \"away_shots\",\n",
    "  \"HST\": \"home_shots_target\",\n",
    "  \"AST\": \"away_shots_target\",\n",
    "  \"HY\": \"home_yellows\",\n",
    "  \"AY\": \"away_yellows\",\n",
    "  \"HR\": \"home_reds\",\n",
    "  \"AR\": \"away_reds\"\n",
    "}\n",
    "data_source = [\n",
    "  {\"source\": \"data/D1_10-11.csv\", \"name\":\"2010/2011\"},\n",
    "  {\"source\": \"data/D1_11-12.csv\", \"name\":\"2011/2012\"},\n",
    "  {\"source\": \"data/D1_12-13.csv\", \"name\":\"2012/2013\"},\n",
    "  {\"source\": \"data/D1_13-14.csv\", \"name\":\"2013/2014\"},\n",
    "  {\"source\": \"data/D1_14-15.csv\", \"name\":\"2014/2015\"},\n",
    "  {\"source\": \"data/D1_15-16.csv\", \"name\":\"2015/2016\"},\n",
    "  {\"source\": \"data/D1_16-17.csv\", \"name\":\"2016/2017\"},\n",
    "  {\"source\": \"data/D1_17-18.csv\", \"name\":\"2017/2018\"},\n",
    "  {\"source\": \"data/D1_18-19.csv\", \"name\":\"2018/2019\"},\n",
    "  {\"source\": \"data/D1_19-20.csv\", \"name\":\"2019/2020\"},\n",
    "  {\"source\": \"data/D1_20-21.csv\", \"name\":\"2020/2021\"},\n",
    "  {\"source\": \"data/D1_21-22.csv\", \"name\":\"2021/2022\"},\n",
    "]\n",
    "\n",
    "#initialize empty dataframe\n",
    "df = pd.DataFrame(columns=cols)\n",
    "\n",
    "for season in data_source:\n",
    "  # concat the season to dataframe\n",
    "  df = pd.concat([df, pd.read_csv(season[\"source\"], usecols=csv_cols)])\n",
    "  # change the season column to name\n",
    "  df[\"season\"] = df[\"season\"].fillna(season[\"name\"])\n",
    "\n",
    "print(df.columns)\n",
    "print(df.shape)\n",
    "# df = df.rename(columns=new_col_names)"
   ]
  },
  {
   "cell_type": "code",
   "execution_count": 32,
   "metadata": {},
   "outputs": [
    {
     "name": "stdout",
     "output_type": "stream",
     "text": [
      "       Date       HomeTeam        AwayTeam FTHG FTAG FTR  HS  AS HST AST HY  \\\n",
      "0  20/08/10  Bayern Munich       Wolfsburg    2    1   H  17  11   5   5  1   \n",
      "1  21/08/10        FC Koln  Kaiserslautern    1    3   A  10  17   4   6  1   \n",
      "2  21/08/10       Freiburg        St Pauli    1    3   A   9  17   3   7  0   \n",
      "3  21/08/10        Hamburg      Schalke 04    2    1   H  18  13   6   4  2   \n",
      "4  21/08/10       Hannover   Ein Frankfurt    2    1   H  13  17   7   3  0   \n",
      "\n",
      "  AY HR AR     season  \n",
      "0  3  0  0  2010/2011  \n",
      "1  2  1  0  2010/2011  \n",
      "2  0  0  0  2010/2011  \n",
      "3  0  0  1  2010/2011  \n",
      "4  1  0  0  2010/2011  \n",
      "           Date      HomeTeam       AwayTeam FTHG FTAG FTR  HS  AS HST AST HY  \\\n",
      "301  14/05/2022         Mainz  Ein Frankfurt    2    2   D  13  13   4   4  2   \n",
      "302  14/05/2022    M'gladbach     Hoffenheim    5    1   H  19  10   9   2  1   \n",
      "303  14/05/2022     Stuttgart        FC Koln    2    1   H  24  16  12   3  1   \n",
      "304  14/05/2022  Union Berlin         Bochum    3    2   H  17   5  11   3  3   \n",
      "305  14/05/2022     Wolfsburg  Bayern Munich    2    2   D  10  25   2  10  1   \n",
      "\n",
      "    AY HR AR     season  \n",
      "301  0  0  0  2021/2022  \n",
      "302  2  0  0  2021/2022  \n",
      "303  4  0  0  2021/2022  \n",
      "304  2  0  0  2021/2022  \n",
      "305  2  0  0  2021/2022  \n"
     ]
    }
   ],
   "source": [
    "print(df.head(5))\n",
    "print(df.tail(5))"
   ]
  },
  {
   "cell_type": "code",
   "execution_count": 33,
   "metadata": {},
   "outputs": [
    {
     "name": "stdout",
     "output_type": "stream",
     "text": [
      "Index(['Date', 'HomeTeam', 'AwayTeam', 'home_goals', 'away_goals', 'result',\n",
      "       'home_shots', 'away_shots', 'home_shots_target', 'away_shots_target',\n",
      "       'home_yellows', 'away_yellows', 'home_reds', 'away_reds', 'season'],\n",
      "      dtype='object')\n"
     ]
    }
   ],
   "source": [
    "#rename cols\n",
    "df = df.rename(columns=new_col_names)\n",
    "print(df.columns)"
   ]
  },
  {
   "cell_type": "code",
   "execution_count": 34,
   "metadata": {},
   "outputs": [
    {
     "name": "stdout",
     "output_type": "stream",
     "text": [
      "Date                 datetime64[ns]\n",
      "HomeTeam                     object\n",
      "AwayTeam                     object\n",
      "home_goals                    int64\n",
      "away_goals                    int64\n",
      "result                       object\n",
      "home_shots                    int64\n",
      "away_shots                    int64\n",
      "home_shots_target             int64\n",
      "away_shots_target             int64\n",
      "home_yellows                  int64\n",
      "away_yellows                  int64\n",
      "home_reds                     int64\n",
      "away_reds                     int64\n",
      "season                       object\n",
      "dtype: object\n"
     ]
    },
    {
     "name": "stderr",
     "output_type": "stream",
     "text": [
      "C:\\Users\\caleb\\AppData\\Local\\Temp\\ipykernel_39620\\1530756515.py:2: UserWarning: Could not infer format, so each element will be parsed individually, falling back to `dateutil`. To ensure parsing is consistent and as-expected, please specify a format.\n",
      "  df[\"Date\"] = pd.to_datetime(df[\"Date\"], dayfirst=True)\n"
     ]
    }
   ],
   "source": [
    "# Convert date type to date\n",
    "df[\"Date\"] = pd.to_datetime(df[\"Date\"], dayfirst=True)\n",
    "#convert cols to int\n",
    "col_types = {\n",
    "  \"home_goals\": \"int64\",\n",
    "  \"away_goals\": \"int64\",\n",
    "  \"home_shots\": \"int64\",\n",
    "  \"away_shots\": \"int64\",\n",
    "  \"home_shots_target\": \"int64\",\n",
    "  \"away_shots_target\": \"int64\",\n",
    "  \"home_yellows\": \"int64\",\n",
    "  \"away_yellows\": \"int64\",\n",
    "  \"home_reds\": \"int64\",\n",
    "  \"away_reds\": \"int64\",\n",
    "}\n",
    "df = df.astype(col_types)\n",
    "\n",
    "print(df.dtypes)"
   ]
  },
  {
   "cell_type": "markdown",
   "metadata": {},
   "source": [
    "We now have a singe df with all of the needed data in it. Check for nulls and before analysis"
   ]
  },
  {
   "cell_type": "code",
   "execution_count": 35,
   "metadata": {},
   "outputs": [
    {
     "name": "stdout",
     "output_type": "stream",
     "text": [
      "Date                 0\n",
      "HomeTeam             0\n",
      "AwayTeam             0\n",
      "home_goals           0\n",
      "away_goals           0\n",
      "result               0\n",
      "home_shots           0\n",
      "away_shots           0\n",
      "home_shots_target    0\n",
      "away_shots_target    0\n",
      "home_yellows         0\n",
      "away_yellows         0\n",
      "home_reds            0\n",
      "away_reds            0\n",
      "season               0\n",
      "dtype: int64\n"
     ]
    }
   ],
   "source": [
    "print(df.isna().sum())"
   ]
  },
  {
   "cell_type": "markdown",
   "metadata": {},
   "source": [
    "The data is cleaned and formatted and ready to go. Time for analysis.\n",
    "## What is the goal of the analysis?\n",
    "The goal of the analysis is to determing what effect red cards have on the outcome of matches. Compare winning % without red cards vs winning % with red cards.\n",
    "## Plan of attack: \n",
    "1. Home team winning percentage and away team winning percentage grouped by season.\n",
    "2. Breakdown those percentages by red cards v no red cards\n",
    "3. Visualize the findings.\n",
    "\n",
    "### Define wining percentage:\n",
    "In soccer, draws are very common, and thus winning percentage shouldn't be a single #%, but instead be three #%'s. Win rate, Draw rate, loss rate.\n",
    "> Example: if a team has played 10 matches and won 5, drew 2, and lost 3, then win_rate = 50.0%, draw_rate = 20.0%, loss_rate = 30.0%"
   ]
  },
  {
   "cell_type": "code",
   "execution_count": 36,
   "metadata": {},
   "outputs": [
    {
     "name": "stdout",
     "output_type": "stream",
     "text": [
      "The total number of matches played is 3,672\n",
      "The home team won 1657 times\n",
      "There were 889 draws\n",
      "The away team won 1126 times\n",
      "The overall home winning rate is 45.1%\n",
      "The overall draw rate is 24.2%\n",
      "The overall away winning rate is 30.7%\n"
     ]
    }
   ],
   "source": [
    "# calculations for rates\n",
    "# win_rate = total # of wins / total # of matches played\n",
    "# in the result column 'H' = home win, \"A\" = away win, \"D\" = draw\n",
    "\n",
    "total_matches = len(df)\n",
    "print(f\"The total number of matches played is {total_matches:,}\")\n",
    "\n",
    "num_home_wins = len(df[df[\"result\"] == \"H\"])\n",
    "print(f\"The home team won {num_home_wins} times\")\n",
    "\n",
    "num_draws = len(df[df[\"result\"] == \"D\"])\n",
    "print(f\"There were {num_draws} draws\")\n",
    "\n",
    "num_away_wins = total_matches - num_home_wins - num_draws\n",
    "print(f\"The away team won {num_away_wins} times\")\n",
    "\n",
    "home_win_rate = (num_home_wins / total_matches) * 100\n",
    "draw_rate = (num_draws / total_matches) *100\n",
    "away_win_rate = (num_away_wins / total_matches) * 100\n",
    "print(f\"The overall home winning rate is {home_win_rate:.1f}%\")\n",
    "print(f\"The overall draw rate is {draw_rate:.1f}%\")\n",
    "print(f\"The overall away winning rate is {away_win_rate:.1f}%\")"
   ]
  }
 ],
 "metadata": {
  "kernelspec": {
   "display_name": ".venv",
   "language": "python",
   "name": "python3"
  },
  "language_info": {
   "codemirror_mode": {
    "name": "ipython",
    "version": 3
   },
   "file_extension": ".py",
   "mimetype": "text/x-python",
   "name": "python",
   "nbconvert_exporter": "python",
   "pygments_lexer": "ipython3",
   "version": "3.11.5"
  },
  "orig_nbformat": 4
 },
 "nbformat": 4,
 "nbformat_minor": 2
}
